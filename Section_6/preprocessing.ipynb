{
 "cells": [
  {
   "cell_type": "markdown",
   "metadata": {},
   "source": [
    "# コーパスの前処理\n",
    "自然言語処理のために集められた大量のテキストデータのことを、**コーパス**といいます。  \n",
    "今回は、青空文庫のデータをコーパスとして用いますが、そのためにはプログラムで扱いやすくするために前処理を行う必要があります。"
   ]
  },
  {
   "cell_type": "markdown",
   "metadata": {},
   "source": [
    "## データの読み込み\n",
    "まず、青空文庫のデータを読み込みます。    \n",
    "データは多い方がいいのですが、今回は簡単にするため夏目漱石の「我輩は猫である」の全文のみを読み込みます。"
   ]
  },
  {
   "cell_type": "code",
   "execution_count": null,
   "metadata": {},
   "outputs": [],
   "source": [
    "with open(\"gingatetsudowa_nekodearu.txt\", mode=\"r\", encoding=\"utf-8\") as f:  # ファイルの読み込み\n",
    "    wagahai_original = f.read()\n",
    "\n",
    "print(wagahai_original)    # メモリ不足の際はコメントアウトしてください"
   ]
  },
  {
   "cell_type": "markdown",
   "metadata": {},
   "source": [
    "## データの前処理\n",
    "読み込んだ小説のデータから、正規表現を用いてルビなどを削除します。  \n",
    "その上で、文章ごとにリストに格納し、pickleを使って保存します。"
   ]
  },
  {
   "cell_type": "code",
   "execution_count": 2,
   "metadata": {},
   "outputs": [
    {
     "name": "stdout",
     "output_type": "stream",
     "text": [
      "['吾輩は猫である。', '名前はまだ無い。', 'どこで生れたかとんと見当がつかぬ。', '何でも薄暗いじめじめした所でニャーニャー泣いていた事だけは記憶している。', '吾輩はここで始めて人間というものを見た。', 'しかもあとで聞くとそれは書生という人間中で一番獰悪な種族であったそうだ。', 'この書生というのは時々我々を捕えて煮て食うという話である。', 'しかしその当時は何という考もなかったから別段恐しいとも思わなかった。', 'ただ彼の掌に載せられてスーと持ち上げられた時何だかフワフワした感じがあったばかりである。', '掌の上で少し落ちついて書生の顔を見たのがいわゆる人間というものの見始であろう。']\n"
     ]
    }
   ],
   "source": [
    "import re\n",
    "import pickle\n",
    "\n",
    "wagahai = re.sub(\"《[^》]+》\", \"\", wagahai_original) # ルビの削除\n",
    "wagahai = re.sub(\"［[^］]+］\", \"\", wagahai) # 読みの注意の削除\n",
    "wagahai = re.sub(\"[｜ 　「」\\n]\", \"\", wagahai) # | と全角半角スペース、「」と改行の削除\n",
    "\n",
    "seperator = \"。\"  # 。をセパレータに指定\n",
    "wagahai_list = wagahai.split(seperator)  # セパレーターを使って文章をリストに分割する\n",
    "wagahai_list.pop() # 最後の要素は空の文字列になるので、削除\n",
    "wagahai_list = [x+seperator for x in wagahai_list]  # 文章の最後に。を追加\n",
    "        \n",
    "print(wagahai_list[:10])\n",
    "\n",
    "with open('wagahai_list.pickle', mode='wb') as f:  # pickleに保存\n",
    "    pickle.dump(wagahai_list, f)"
   ]
  },
  {
   "cell_type": "markdown",
   "metadata": {},
   "source": [
    "保存できていることを確認します。"
   ]
  },
  {
   "cell_type": "code",
   "execution_count": 3,
   "metadata": {},
   "outputs": [
    {
     "name": "stdout",
     "output_type": "stream",
     "text": [
      "['吾輩は猫である。', '名前はまだ無い。', 'どこで生れたかとんと見当がつかぬ。', '何でも薄暗いじめじめした所でニャーニャー泣いていた事だけは記憶している。', '吾輩はここで始めて人間というものを見た。', 'しかもあとで聞くとそれは書生という人間中で一番獰悪な種族であったそうだ。', 'この書生というのは時々我々を捕えて煮て食うという話である。', 'しかしその当時は何という考もなかったから別段恐しいとも思わなかった。', 'ただ彼の掌に載せられてスーと持ち上げられた時何だかフワフワした感じがあったばかりである。', '掌の上で少し落ちついて書生の顔を見たのがいわゆる人間というものの見始であろう。']\n"
     ]
    }
   ],
   "source": [
    "with open('wagahai_list.pickle', mode='rb') as f:\n",
    "    wagahai_list = pickle.load(f)\n",
    "\n",
    "print(wagahai_list[:10])"
   ]
  },
  {
   "cell_type": "markdown",
   "metadata": {},
   "source": [
    "## 課題:\n",
    "同じフォルダの以下のファイルから「銀河鉄道の夜」を読み込み、前処理を行ってみましょう。  \n",
    "gingatetsudono_yoru.txt"
   ]
  },
  {
   "cell_type": "code",
   "execution_count": 5,
   "metadata": {},
   "outputs": [],
   "source": [
    "with open(\"gingatetsudono_yoru.txt\", mode=\"r\", encoding=\"utf-8\") as f:  # ファイルの読み込み\n",
    "    gingatetsudono_yoru = f.read()"
   ]
  },
  {
   "cell_type": "code",
   "execution_count": 8,
   "metadata": {},
   "outputs": [
    {
     "name": "stdout",
     "output_type": "stream",
     "text": [
      "['ではみなさんは、そういうふうに川だと云われたり、乳の流れたあとだと云われたりしていたこのぼんやりと白いものがほんとうは何かご承知ですか。', '先生は、黒板に吊した大きな黒い星座の図の、上から下へ白くけぶった銀河帯のようなところを指しながら、みんなに問をかけました。', 'カムパネルラが手をあげました。', 'それから四五人手をあげました。', 'ジョバンニも手をあげようとして、急いでそのままやめました。', 'たしかにあれがみんな星だと、いつか雑誌で読んだのでしたが、このごろはジョバンニはまるで毎日教室でもねむく、本を読むひまも読む本もないので、なんだかどんなこともよくわからないという気持ちがするのでした。', 'ところが先生は早くもそれを見附けたのでした。', 'ジョバンニさん。', 'あなたはわかっているのでしょう。', 'ジョバンニは勢よく立ちあがりましたが、立って見るともうはっきりとそれを答えることができないのでした。']\n"
     ]
    }
   ],
   "source": [
    "import re\n",
    "import pickle\n",
    "\n",
    "gingatetsudo = re.sub(\"《[^》]+》\", \"\", gingatetsudono_yoru) # ルビの削除\n",
    "gingatetsudo = re.sub(\"［[^］]+］\", \"\", gingatetsudo) # 読みの注意の削除\n",
    "gingatetsudo = re.sub(\"[｜ 　「」\\n]\", \"\", gingatetsudo) # | と全角半角スペース、「」と改行の削除\n",
    "\n",
    "seperator = \"。\"  # 。をセパレータに指定\n",
    "gingatetsudo_list = gingatetsudo.split(seperator)  # セパレーターを使って文章をリストに分割する\n",
    "gingatetsudo_list.pop() # 最後の要素は空の文字列になるので、削除\n",
    "gingatetsudo_list = [x+seperator for x in gingatetsudo_list]  # 文章の最後に。を追加\n",
    "        \n",
    "print(gingatetsudo_list[:10])\n",
    "\n",
    "with open('gingatetsudo_list.pickle', mode='wb') as f:  # pickleに保存\n",
    "    pickle.dump(gingatetsudo_list, f)"
   ]
  },
  {
   "cell_type": "code",
   "execution_count": 9,
   "metadata": {},
   "outputs": [
    {
     "name": "stdout",
     "output_type": "stream",
     "text": [
      "['ではみなさんは、そういうふうに川だと云われたり、乳の流れたあとだと云われたりしていたこのぼんやりと白いものがほんとうは何かご承知ですか。', '先生は、黒板に吊した大きな黒い星座の図の、上から下へ白くけぶった銀河帯のようなところを指しながら、みんなに問をかけました。', 'カムパネルラが手をあげました。', 'それから四五人手をあげました。', 'ジョバンニも手をあげようとして、急いでそのままやめました。', 'たしかにあれがみんな星だと、いつか雑誌で読んだのでしたが、このごろはジョバンニはまるで毎日教室でもねむく、本を読むひまも読む本もないので、なんだかどんなこともよくわからないという気持ちがするのでした。', 'ところが先生は早くもそれを見附けたのでした。', 'ジョバンニさん。', 'あなたはわかっているのでしょう。', 'ジョバンニは勢よく立ちあがりましたが、立って見るともうはっきりとそれを答えることができないのでした。']\n"
     ]
    }
   ],
   "source": [
    "with open('gingatetsudo_list.pickle', mode='rb') as f:\n",
    "    gingatetsudo_list = pickle.load(f)\n",
    "\n",
    "print(gingatetsudo_list[:10])"
   ]
  },
  {
   "cell_type": "code",
   "execution_count": null,
   "metadata": {},
   "outputs": [],
   "source": []
  }
 ],
 "metadata": {
  "kernelspec": {
   "display_name": "Python 3.9.7 64-bit",
   "language": "python",
   "name": "python3"
  },
  "language_info": {
   "codemirror_mode": {
    "name": "ipython",
    "version": 3
   },
   "file_extension": ".py",
   "mimetype": "text/x-python",
   "name": "python",
   "nbconvert_exporter": "python",
   "pygments_lexer": "ipython3",
   "version": "3.9.7"
  },
  "vscode": {
   "interpreter": {
    "hash": "aee8b7b246df8f9039afb4144a1f6fd8d2ca17a180786b69acc140d282b71a49"
   }
  }
 },
 "nbformat": 4,
 "nbformat_minor": 2
}
